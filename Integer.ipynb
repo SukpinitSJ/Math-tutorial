{
 "cells": [
  {
   "cell_type": "markdown",
   "metadata": {},
   "source": [
    "# <font color=\"blue\">จำนวนเต็ม</font>"
   ]
  },
  {
   "cell_type": "markdown",
   "metadata": {},
   "source": [
    "#### <font color=\"green\">“จำนวนเต็ม” เป็นจำนวนที่ไม่มีทั้งเศษส่วนและทศนิยมเป็นส่วนประกอบ มี 3 ชนิดด้วยกัน คือ</font>\n",
    "\n",
    "- จำนวนเต็มศูนย์ ได้แก่ 0\n",
    "- จำนวนเต็มบวก ได้แก่ 1, 2, 3, 4, 5,…\n",
    "- จำนวนเต็มลบ ได้แก่ …,-5, -4, -3, -2, -1\n",
    "\n",
    "#### <font color=\"green\">จำนวนธรรมชาติ</font>\n",
    "เมื่อเรียนเรื่องจำนวนเต็ม ทุกคนอาจจะได้ยินคำว่า “จำนวนธรรมชาติ”  จำนวนธรรมชาติในทางคณิตศาสตร์ จะหมายถึง “จำนวนเต็มบวก” หรือ “จำนวนนับ”  ได้แก่ 1, 2, 3, 4,…  ส่วนทางตรรกศาสตร์และเซต\n",
    "จะหมายถึง “จำนวนเต็มไม่เป็นลบ” ได้แก่ 0, 1, 2, 3, 4,…"
   ]
  },
  {
   "cell_type": "code",
   "execution_count": 2,
   "metadata": {},
   "outputs": [
    {
     "data": {
      "text/plain": [
       "15"
      ]
     },
     "execution_count": 2,
     "metadata": {},
     "output_type": "execute_result"
    }
   ],
   "source": [
    "5+10"
   ]
  },
  {
   "cell_type": "code",
   "execution_count": null,
   "metadata": {},
   "outputs": [],
   "source": []
  }
 ],
 "metadata": {
  "kernelspec": {
   "display_name": "base",
   "language": "python",
   "name": "python3"
  },
  "language_info": {
   "codemirror_mode": {
    "name": "ipython",
    "version": 3
   },
   "file_extension": ".py",
   "mimetype": "text/x-python",
   "name": "python",
   "nbconvert_exporter": "python",
   "pygments_lexer": "ipython3",
   "version": "3.12.7"
  }
 },
 "nbformat": 4,
 "nbformat_minor": 2
}
